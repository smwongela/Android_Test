{
  "nbformat": 4,
  "nbformat_minor": 0,
  "metadata": {
    "colab": {
      "provenance": [],
      "include_colab_link": true
    },
    "kernelspec": {
      "name": "python3",
      "display_name": "Python 3"
    },
    "language_info": {
      "name": "python"
    },
    "accelerator": "GPU",
    "widgets": {
      "application/vnd.jupyter.widget-state+json": {
        "b8588018991447d59d62d0f902179ffd": {
          "model_module": "@jupyter-widgets/controls",
          "model_name": "HBoxModel",
          "model_module_version": "1.5.0",
          "state": {
            "_dom_classes": [],
            "_model_module": "@jupyter-widgets/controls",
            "_model_module_version": "1.5.0",
            "_model_name": "HBoxModel",
            "_view_count": null,
            "_view_module": "@jupyter-widgets/controls",
            "_view_module_version": "1.5.0",
            "_view_name": "HBoxView",
            "box_style": "",
            "children": [
              "IPY_MODEL_b99adebab6624d5fa9aac4bdfa6f7bf9",
              "IPY_MODEL_f592162d28624d4788cfde9f0f5e7805",
              "IPY_MODEL_273def477ab34ee29a11d020269741c8"
            ],
            "layout": "IPY_MODEL_5f4c22f677e344e68a810aa53e1420e1"
          }
        },
        "b99adebab6624d5fa9aac4bdfa6f7bf9": {
          "model_module": "@jupyter-widgets/controls",
          "model_name": "HTMLModel",
          "model_module_version": "1.5.0",
          "state": {
            "_dom_classes": [],
            "_model_module": "@jupyter-widgets/controls",
            "_model_module_version": "1.5.0",
            "_model_name": "HTMLModel",
            "_view_count": null,
            "_view_module": "@jupyter-widgets/controls",
            "_view_module_version": "1.5.0",
            "_view_name": "HTMLView",
            "description": "",
            "description_tooltip": null,
            "layout": "IPY_MODEL_eb7cbf2d25b041b986941dec1f573104",
            "placeholder": "​",
            "style": "IPY_MODEL_9df01bc2e96f423c935364b5e080fb99",
            "value": ""
          }
        },
        "f592162d28624d4788cfde9f0f5e7805": {
          "model_module": "@jupyter-widgets/controls",
          "model_name": "FloatProgressModel",
          "model_module_version": "1.5.0",
          "state": {
            "_dom_classes": [],
            "_model_module": "@jupyter-widgets/controls",
            "_model_module_version": "1.5.0",
            "_model_name": "FloatProgressModel",
            "_view_count": null,
            "_view_module": "@jupyter-widgets/controls",
            "_view_module_version": "1.5.0",
            "_view_name": "ProgressView",
            "bar_style": "success",
            "description": "",
            "description_tooltip": null,
            "layout": "IPY_MODEL_1da80456eed4441ba6d27856c6d8802b",
            "max": 1,
            "min": 0,
            "orientation": "horizontal",
            "style": "IPY_MODEL_3be447a75ff544beb071f2e1a7b4b93b",
            "value": 0
          }
        },
        "273def477ab34ee29a11d020269741c8": {
          "model_module": "@jupyter-widgets/controls",
          "model_name": "HTMLModel",
          "model_module_version": "1.5.0",
          "state": {
            "_dom_classes": [],
            "_model_module": "@jupyter-widgets/controls",
            "_model_module_version": "1.5.0",
            "_model_name": "HTMLModel",
            "_view_count": null,
            "_view_module": "@jupyter-widgets/controls",
            "_view_module_version": "1.5.0",
            "_view_name": "HTMLView",
            "description": "",
            "description_tooltip": null,
            "layout": "IPY_MODEL_1bdd68f4151e46409fd5316be70b0de8",
            "placeholder": "​",
            "style": "IPY_MODEL_89166b0ca3b44fb7b96488be407f20c7",
            "value": " 0/0 [00:00&lt;?, ?it/s]"
          }
        },
        "5f4c22f677e344e68a810aa53e1420e1": {
          "model_module": "@jupyter-widgets/base",
          "model_name": "LayoutModel",
          "model_module_version": "1.2.0",
          "state": {
            "_model_module": "@jupyter-widgets/base",
            "_model_module_version": "1.2.0",
            "_model_name": "LayoutModel",
            "_view_count": null,
            "_view_module": "@jupyter-widgets/base",
            "_view_module_version": "1.2.0",
            "_view_name": "LayoutView",
            "align_content": null,
            "align_items": null,
            "align_self": null,
            "border": null,
            "bottom": null,
            "display": null,
            "flex": null,
            "flex_flow": null,
            "grid_area": null,
            "grid_auto_columns": null,
            "grid_auto_flow": null,
            "grid_auto_rows": null,
            "grid_column": null,
            "grid_gap": null,
            "grid_row": null,
            "grid_template_areas": null,
            "grid_template_columns": null,
            "grid_template_rows": null,
            "height": null,
            "justify_content": null,
            "justify_items": null,
            "left": null,
            "margin": null,
            "max_height": null,
            "max_width": null,
            "min_height": null,
            "min_width": null,
            "object_fit": null,
            "object_position": null,
            "order": null,
            "overflow": null,
            "overflow_x": null,
            "overflow_y": null,
            "padding": null,
            "right": null,
            "top": null,
            "visibility": null,
            "width": null
          }
        },
        "eb7cbf2d25b041b986941dec1f573104": {
          "model_module": "@jupyter-widgets/base",
          "model_name": "LayoutModel",
          "model_module_version": "1.2.0",
          "state": {
            "_model_module": "@jupyter-widgets/base",
            "_model_module_version": "1.2.0",
            "_model_name": "LayoutModel",
            "_view_count": null,
            "_view_module": "@jupyter-widgets/base",
            "_view_module_version": "1.2.0",
            "_view_name": "LayoutView",
            "align_content": null,
            "align_items": null,
            "align_self": null,
            "border": null,
            "bottom": null,
            "display": null,
            "flex": null,
            "flex_flow": null,
            "grid_area": null,
            "grid_auto_columns": null,
            "grid_auto_flow": null,
            "grid_auto_rows": null,
            "grid_column": null,
            "grid_gap": null,
            "grid_row": null,
            "grid_template_areas": null,
            "grid_template_columns": null,
            "grid_template_rows": null,
            "height": null,
            "justify_content": null,
            "justify_items": null,
            "left": null,
            "margin": null,
            "max_height": null,
            "max_width": null,
            "min_height": null,
            "min_width": null,
            "object_fit": null,
            "object_position": null,
            "order": null,
            "overflow": null,
            "overflow_x": null,
            "overflow_y": null,
            "padding": null,
            "right": null,
            "top": null,
            "visibility": null,
            "width": null
          }
        },
        "9df01bc2e96f423c935364b5e080fb99": {
          "model_module": "@jupyter-widgets/controls",
          "model_name": "DescriptionStyleModel",
          "model_module_version": "1.5.0",
          "state": {
            "_model_module": "@jupyter-widgets/controls",
            "_model_module_version": "1.5.0",
            "_model_name": "DescriptionStyleModel",
            "_view_count": null,
            "_view_module": "@jupyter-widgets/base",
            "_view_module_version": "1.2.0",
            "_view_name": "StyleView",
            "description_width": ""
          }
        },
        "1da80456eed4441ba6d27856c6d8802b": {
          "model_module": "@jupyter-widgets/base",
          "model_name": "LayoutModel",
          "model_module_version": "1.2.0",
          "state": {
            "_model_module": "@jupyter-widgets/base",
            "_model_module_version": "1.2.0",
            "_model_name": "LayoutModel",
            "_view_count": null,
            "_view_module": "@jupyter-widgets/base",
            "_view_module_version": "1.2.0",
            "_view_name": "LayoutView",
            "align_content": null,
            "align_items": null,
            "align_self": null,
            "border": null,
            "bottom": null,
            "display": null,
            "flex": null,
            "flex_flow": null,
            "grid_area": null,
            "grid_auto_columns": null,
            "grid_auto_flow": null,
            "grid_auto_rows": null,
            "grid_column": null,
            "grid_gap": null,
            "grid_row": null,
            "grid_template_areas": null,
            "grid_template_columns": null,
            "grid_template_rows": null,
            "height": null,
            "justify_content": null,
            "justify_items": null,
            "left": null,
            "margin": null,
            "max_height": null,
            "max_width": null,
            "min_height": null,
            "min_width": null,
            "object_fit": null,
            "object_position": null,
            "order": null,
            "overflow": null,
            "overflow_x": null,
            "overflow_y": null,
            "padding": null,
            "right": null,
            "top": null,
            "visibility": null,
            "width": "20px"
          }
        },
        "3be447a75ff544beb071f2e1a7b4b93b": {
          "model_module": "@jupyter-widgets/controls",
          "model_name": "ProgressStyleModel",
          "model_module_version": "1.5.0",
          "state": {
            "_model_module": "@jupyter-widgets/controls",
            "_model_module_version": "1.5.0",
            "_model_name": "ProgressStyleModel",
            "_view_count": null,
            "_view_module": "@jupyter-widgets/base",
            "_view_module_version": "1.2.0",
            "_view_name": "StyleView",
            "bar_color": null,
            "description_width": ""
          }
        },
        "1bdd68f4151e46409fd5316be70b0de8": {
          "model_module": "@jupyter-widgets/base",
          "model_name": "LayoutModel",
          "model_module_version": "1.2.0",
          "state": {
            "_model_module": "@jupyter-widgets/base",
            "_model_module_version": "1.2.0",
            "_model_name": "LayoutModel",
            "_view_count": null,
            "_view_module": "@jupyter-widgets/base",
            "_view_module_version": "1.2.0",
            "_view_name": "LayoutView",
            "align_content": null,
            "align_items": null,
            "align_self": null,
            "border": null,
            "bottom": null,
            "display": null,
            "flex": null,
            "flex_flow": null,
            "grid_area": null,
            "grid_auto_columns": null,
            "grid_auto_flow": null,
            "grid_auto_rows": null,
            "grid_column": null,
            "grid_gap": null,
            "grid_row": null,
            "grid_template_areas": null,
            "grid_template_columns": null,
            "grid_template_rows": null,
            "height": null,
            "justify_content": null,
            "justify_items": null,
            "left": null,
            "margin": null,
            "max_height": null,
            "max_width": null,
            "min_height": null,
            "min_width": null,
            "object_fit": null,
            "object_position": null,
            "order": null,
            "overflow": null,
            "overflow_x": null,
            "overflow_y": null,
            "padding": null,
            "right": null,
            "top": null,
            "visibility": null,
            "width": null
          }
        },
        "89166b0ca3b44fb7b96488be407f20c7": {
          "model_module": "@jupyter-widgets/controls",
          "model_name": "DescriptionStyleModel",
          "model_module_version": "1.5.0",
          "state": {
            "_model_module": "@jupyter-widgets/controls",
            "_model_module_version": "1.5.0",
            "_model_name": "DescriptionStyleModel",
            "_view_count": null,
            "_view_module": "@jupyter-widgets/base",
            "_view_module_version": "1.2.0",
            "_view_name": "StyleView",
            "description_width": ""
          }
        }
      }
    }
  },
  "cells": [
    {
      "cell_type": "markdown",
      "metadata": {
        "id": "view-in-github",
        "colab_type": "text"
      },
      "source": [
        "<a href=\"https://colab.research.google.com/github/smwongela/Android_Test/blob/master/5_GetEmbedding.ipynb\" target=\"_parent\"><img src=\"https://colab.research.google.com/assets/colab-badge.svg\" alt=\"Open In Colab\"/></a>"
      ]
    },
    {
      "cell_type": "code",
      "execution_count": 2,
      "metadata": {
        "colab": {
          "base_uri": "https://localhost:8080/"
        },
        "id": "cZTSDlfwHtRD",
        "outputId": "82fe4bf4-de30-4dd7-ffca-e124943d634c"
      },
      "outputs": [
        {
          "output_type": "stream",
          "name": "stdout",
          "text": [
            "Drive already mounted at /content/drive; to attempt to forcibly remount, call drive.mount(\"/content/drive\", force_remount=True).\n"
          ]
        }
      ],
      "source": [
        "from google.colab import drive\n",
        "drive.mount(\"/content/drive\")"
      ]
    },
    {
      "cell_type": "code",
      "source": [
        "root = \"/content/drive/MyDrive/Jacaranda/project_nlp_psu-master\""
      ],
      "metadata": {
        "id": "AHD0IO7oITsU"
      },
      "execution_count": 3,
      "outputs": []
    },
    {
      "cell_type": "code",
      "source": [
        "#!unzip {root}/checkpoint/xlm-roberta-large-2/checkpoint.zip -d {root}/checkpoint/xlm-roberta-large-2/"
      ],
      "metadata": {
        "id": "gJXmu-H5nDkj"
      },
      "execution_count": 4,
      "outputs": []
    },
    {
      "cell_type": "code",
      "source": [
        "#!mv {root}/checkpoint/xlm-roberta-large-2/checkpoint/xlm-roberta-large-2/* {root}/checkpoint/xlm-roberta-large-2/"
      ],
      "metadata": {
        "id": "d6-yMscfpJiM"
      },
      "execution_count": 5,
      "outputs": []
    },
    {
      "cell_type": "code",
      "source": [
        "!pip install sentencepiece transformers "
      ],
      "metadata": {
        "colab": {
          "base_uri": "https://localhost:8080/"
        },
        "id": "DgEGwc0gqaOc",
        "outputId": "bbafa100-a105-43cb-f1f6-36b909389caf"
      },
      "execution_count": 6,
      "outputs": [
        {
          "output_type": "stream",
          "name": "stdout",
          "text": [
            "Looking in indexes: https://pypi.org/simple, https://us-python.pkg.dev/colab-wheels/public/simple/\n",
            "Collecting sentencepiece\n",
            "  Downloading sentencepiece-0.1.97-cp37-cp37m-manylinux_2_17_x86_64.manylinux2014_x86_64.whl (1.3 MB)\n",
            "\u001b[K     |████████████████████████████████| 1.3 MB 24.9 MB/s \n",
            "\u001b[?25hCollecting transformers\n",
            "  Downloading transformers-4.22.1-py3-none-any.whl (4.9 MB)\n",
            "\u001b[K     |████████████████████████████████| 4.9 MB 58.8 MB/s \n",
            "\u001b[?25hRequirement already satisfied: regex!=2019.12.17 in /usr/local/lib/python3.7/dist-packages (from transformers) (2022.6.2)\n",
            "Requirement already satisfied: importlib-metadata in /usr/local/lib/python3.7/dist-packages (from transformers) (4.12.0)\n",
            "Collecting tokenizers!=0.11.3,<0.13,>=0.11.1\n",
            "  Downloading tokenizers-0.12.1-cp37-cp37m-manylinux_2_12_x86_64.manylinux2010_x86_64.whl (6.6 MB)\n",
            "\u001b[K     |████████████████████████████████| 6.6 MB 62.3 MB/s \n",
            "\u001b[?25hRequirement already satisfied: numpy>=1.17 in /usr/local/lib/python3.7/dist-packages (from transformers) (1.21.6)\n",
            "Collecting huggingface-hub<1.0,>=0.9.0\n",
            "  Downloading huggingface_hub-0.9.1-py3-none-any.whl (120 kB)\n",
            "\u001b[K     |████████████████████████████████| 120 kB 73.0 MB/s \n",
            "\u001b[?25hRequirement already satisfied: tqdm>=4.27 in /usr/local/lib/python3.7/dist-packages (from transformers) (4.64.1)\n",
            "Requirement already satisfied: pyyaml>=5.1 in /usr/local/lib/python3.7/dist-packages (from transformers) (6.0)\n",
            "Requirement already satisfied: filelock in /usr/local/lib/python3.7/dist-packages (from transformers) (3.8.0)\n",
            "Requirement already satisfied: requests in /usr/local/lib/python3.7/dist-packages (from transformers) (2.23.0)\n",
            "Requirement already satisfied: packaging>=20.0 in /usr/local/lib/python3.7/dist-packages (from transformers) (21.3)\n",
            "Requirement already satisfied: typing-extensions>=3.7.4.3 in /usr/local/lib/python3.7/dist-packages (from huggingface-hub<1.0,>=0.9.0->transformers) (4.1.1)\n",
            "Requirement already satisfied: pyparsing!=3.0.5,>=2.0.2 in /usr/local/lib/python3.7/dist-packages (from packaging>=20.0->transformers) (3.0.9)\n",
            "Requirement already satisfied: zipp>=0.5 in /usr/local/lib/python3.7/dist-packages (from importlib-metadata->transformers) (3.8.1)\n",
            "Requirement already satisfied: idna<3,>=2.5 in /usr/local/lib/python3.7/dist-packages (from requests->transformers) (2.10)\n",
            "Requirement already satisfied: chardet<4,>=3.0.2 in /usr/local/lib/python3.7/dist-packages (from requests->transformers) (3.0.4)\n",
            "Requirement already satisfied: certifi>=2017.4.17 in /usr/local/lib/python3.7/dist-packages (from requests->transformers) (2022.6.15)\n",
            "Requirement already satisfied: urllib3!=1.25.0,!=1.25.1,<1.26,>=1.21.1 in /usr/local/lib/python3.7/dist-packages (from requests->transformers) (1.24.3)\n",
            "Installing collected packages: tokenizers, huggingface-hub, transformers, sentencepiece\n",
            "Successfully installed huggingface-hub-0.9.1 sentencepiece-0.1.97 tokenizers-0.12.1 transformers-4.22.1\n"
          ]
        }
      ]
    },
    {
      "cell_type": "code",
      "source": [
        "import os\n",
        "import pandas as pd\n",
        "import numpy as np\n",
        "import torch\n",
        "\n",
        "os.chdir(root)"
      ],
      "metadata": {
        "id": "C8pKYcF3qBN3"
      },
      "execution_count": 7,
      "outputs": []
    },
    {
      "cell_type": "code",
      "source": [
        "from model_file.pred_single import My_XLMRobertaModel\n",
        "from model_file.pred_single import preprocess\n",
        "\n",
        "from typing import List, Optional, Tuple, Union\n",
        "\n",
        "from transformers import XLMRobertaConfig, SequenceClassifierOutput\n"
      ],
      "metadata": {
        "colab": {
          "base_uri": "https://localhost:8080/",
          "height": 427,
          "referenced_widgets": [
            "b8588018991447d59d62d0f902179ffd",
            "b99adebab6624d5fa9aac4bdfa6f7bf9",
            "f592162d28624d4788cfde9f0f5e7805",
            "273def477ab34ee29a11d020269741c8",
            "5f4c22f677e344e68a810aa53e1420e1",
            "eb7cbf2d25b041b986941dec1f573104",
            "9df01bc2e96f423c935364b5e080fb99",
            "1da80456eed4441ba6d27856c6d8802b",
            "3be447a75ff544beb071f2e1a7b4b93b",
            "1bdd68f4151e46409fd5316be70b0de8",
            "89166b0ca3b44fb7b96488be407f20c7"
          ]
        },
        "id": "0v-zq8fjqGKA",
        "outputId": "36c77b21-6620-4a04-b533-4c57bb8f6e89"
      },
      "execution_count": 8,
      "outputs": [
        {
          "output_type": "stream",
          "name": "stderr",
          "text": [
            "The cache for model files in Transformers v4.22.0 has been updated. Migrating your old cache. This is a one-time only operation. You can interrupt this and resume the migration later on by calling `transformers.utils.move_cache()`.\n"
          ]
        },
        {
          "output_type": "stream",
          "name": "stdout",
          "text": [
            "Moving 0 files to the new cache system\n"
          ]
        },
        {
          "output_type": "display_data",
          "data": {
            "text/plain": [
              "0it [00:00, ?it/s]"
            ],
            "application/vnd.jupyter.widget-view+json": {
              "version_major": 2,
              "version_minor": 0,
              "model_id": "b8588018991447d59d62d0f902179ffd"
            }
          },
          "metadata": {}
        },
        {
          "output_type": "error",
          "ename": "ImportError",
          "evalue": "ignored",
          "traceback": [
            "\u001b[0;31m---------------------------------------------------------------------------\u001b[0m",
            "\u001b[0;31mImportError\u001b[0m                               Traceback (most recent call last)",
            "\u001b[0;32m<ipython-input-8-11948f51e4b1>\u001b[0m in \u001b[0;36m<module>\u001b[0;34m\u001b[0m\n\u001b[1;32m      4\u001b[0m \u001b[0;32mfrom\u001b[0m \u001b[0mtyping\u001b[0m \u001b[0;32mimport\u001b[0m \u001b[0mList\u001b[0m\u001b[0;34m,\u001b[0m \u001b[0mOptional\u001b[0m\u001b[0;34m,\u001b[0m \u001b[0mTuple\u001b[0m\u001b[0;34m,\u001b[0m \u001b[0mUnion\u001b[0m\u001b[0;34m\u001b[0m\u001b[0;34m\u001b[0m\u001b[0m\n\u001b[1;32m      5\u001b[0m \u001b[0;34m\u001b[0m\u001b[0m\n\u001b[0;32m----> 6\u001b[0;31m \u001b[0;32mfrom\u001b[0m \u001b[0mtransformers\u001b[0m \u001b[0;32mimport\u001b[0m \u001b[0mXLMRobertaConfig\u001b[0m\u001b[0;34m,\u001b[0m \u001b[0mSequenceClassifierOutput\u001b[0m\u001b[0;34m\u001b[0m\u001b[0;34m\u001b[0m\u001b[0m\n\u001b[0m",
            "\u001b[0;31mImportError\u001b[0m: cannot import name 'SequenceClassifierOutput' from 'transformers' (/usr/local/lib/python3.7/dist-packages/transformers/__init__.py)",
            "",
            "\u001b[0;31m---------------------------------------------------------------------------\u001b[0;32m\nNOTE: If your import is failing due to a missing package, you can\nmanually install dependencies using either !pip or !apt.\n\nTo view examples of installing some common dependencies, click the\n\"Open Examples\" button below.\n\u001b[0;31m---------------------------------------------------------------------------\u001b[0m\n"
          ],
          "errorDetails": {
            "actions": [
              {
                "action": "open_url",
                "actionText": "Open Examples",
                "url": "/notebooks/snippets/importing_libraries.ipynb"
              }
            ]
          }
        }
      ]
    },
    {
      "cell_type": "code",
      "source": [
        "class XMLRAnalayst(My_XLMRobertaModel):\n",
        "  \n",
        "  def __init__(self,pretrain_model_path,\n",
        "\t                  path_saved_model,\n",
        "\t\t\t\t\t  learning_rate,\n",
        "\t\t\t\t\t  n_class,\n",
        "\t\t\t\t\t  path_table,\n",
        "\t\t\t\t\t  epochs,\n",
        "\t\t\t\t\t  warm_step,\n",
        "\t\t\t\t\t  train_batch_size,\n",
        "\t\t\t\t\t  test_batch_size,\n",
        "\t\t\t\t\t  max_len,\n",
        "\t\t\t\t\t  gpu):\n",
        "\n",
        "    super().__init__(pretrain_model_path,\n",
        "\t                  path_saved_model,\n",
        "\t\t\t\t\t  learning_rate,\n",
        "\t\t\t\t\t  n_class,\n",
        "\t\t\t\t\t  path_table,\n",
        "\t\t\t\t\t  epochs,\n",
        "\t\t\t\t\t  warm_step,\n",
        "\t\t\t\t\t  train_batch_size,\n",
        "\t\t\t\t\t  test_batch_size,\n",
        "\t\t\t\t\t  max_len,\n",
        "            gpu)\n",
        "\n",
        "            \n",
        "    self.model.eval()  \n",
        "    pretrain_model_name = \"xlm-roberta-large\"\n",
        "    self.config = XLMRobertaConfig.from_pretrained(pretrain_model_name) # obtain Roberta model config\n",
        "    self.config.num_labels = n_class\n",
        "    #self.roberta = RobertaModel(self.config, add_pooling_layer=False)\n",
        "    \n",
        "  def eval_classifier(self, features):\n",
        "        x = features[:, 0, :]  # take <s> token (equiv. to [CLS])\n",
        "        x = self.model.classifier.dropout(x)\n",
        "        x = self.model.classifier.dense(x)\n",
        "        x = torch.tanh(x)\n",
        "        x_emb = self.model.classifier.dropout(x)\n",
        "        x = self.model.classifier.out_proj(x_emb)\n",
        "\n",
        "        return {'emb': x_emb, 'proj': x}\n",
        "\n",
        "  def forward(  self,\n",
        "        input_ids: Optional[torch.LongTensor] = None,\n",
        "        attention_mask: Optional[torch.FloatTensor] = None,\n",
        "        token_type_ids: Optional[torch.LongTensor] = None,\n",
        "        position_ids: Optional[torch.LongTensor] = None,\n",
        "        head_mask: Optional[torch.FloatTensor] = None,\n",
        "        inputs_embeds: Optional[torch.FloatTensor] = None,\n",
        "        labels: Optional[torch.LongTensor] = None,\n",
        "        output_attentions: Optional[bool] = None,\n",
        "        output_hidden_states: Optional[bool] = None,\n",
        "        return_dict: Optional[bool] = None):\n",
        "    \n",
        "        return_dict = return_dict if return_dict is not None else self.config.use_return_dict\n",
        "\n",
        "        outputs = self.model.roberta(\n",
        "            input_ids,\n",
        "            attention_mask=attention_mask,\n",
        "            token_type_ids=token_type_ids,\n",
        "            position_ids=position_ids,\n",
        "            head_mask=head_mask,\n",
        "            inputs_embeds=inputs_embeds,\n",
        "            output_attentions=output_attentions,\n",
        "            output_hidden_states=output_hidden_states,\n",
        "            return_dict=return_dict,\n",
        "        )\n",
        "        sequence_output = outputs[0]\n",
        "        \n",
        "        classifier_out = self.eval_classifier(sequence_output)\n",
        "\n",
        "        classifier_embeddings = classifier_out['emb']\n",
        "        logits = classifier_out['proj']\n",
        "\n",
        "        loss = None\n",
        "        if labels is not None:\n",
        "            if self.config.problem_type is None:\n",
        "                if self.num_labels == 1:\n",
        "                    self.config.problem_type = \"regression\"\n",
        "                elif self.num_labels > 1 and (labels.dtype == torch.long or labels.dtype == torch.int):\n",
        "                    self.config.problem_type = \"single_label_classification\"\n",
        "                else:\n",
        "                    self.config.problem_type = \"multi_label_classification\"\n",
        "\n",
        "            if self.config.problem_type == \"regression\":\n",
        "                loss_fct = MSELoss()\n",
        "                if self.num_labels == 1:\n",
        "                    loss = loss_fct(logits.squeeze(), labels.squeeze())\n",
        "                else:\n",
        "                    loss = loss_fct(logits, labels)\n",
        "            elif self.config.problem_type == \"single_label_classification\":\n",
        "                loss_fct = CrossEntropyLoss()\n",
        "                loss = loss_fct(logits.view(-1, self.num_labels), labels.view(-1))\n",
        "            elif self.config.problem_type == \"multi_label_classification\":\n",
        "                loss_fct = BCEWithLogitsLoss()\n",
        "                loss = loss_fct(logits, labels)\n",
        "\n",
        "        if not return_dict:\n",
        "            output = (logits,) + outputs[2:]\n",
        "            return ((loss,) + output) if loss is not None else output\n",
        "\n",
        "        return outputs, classifier_embeddings\n",
        "      \n",
        "      \n",
        "\n",
        "\n",
        "\n",
        "\n"
      ],
      "metadata": {
        "id": "DckWriIanMJW"
      },
      "execution_count": null,
      "outputs": []
    },
    {
      "cell_type": "code",
      "source": [
        "path_project_folder=root\n",
        "# set the dataset path\n",
        "path_table = os.path.join(path_project_folder, \"intent_label_relation.csv\")\n",
        "\n",
        "# set trained model path\n",
        "save_model_path = os.path.join(path_project_folder, \"checkpoint\")\n",
        "path_saved = os.path.join(save_model_path, \"xlm-roberta-large\")\n",
        "path_best_model = os.path.join(save_model_path, 'xlm-roberta-large-2')\n",
        "\n",
        "my_xml_roberta_model = XMLRAnalayst(pretrain_model_path = path_best_model,\n",
        "\t\t                                    path_saved_model = path_saved,\n",
        "\t\t                                    learning_rate = 2e-5,\n",
        "\t\t                                    n_class = 58,\n",
        "\t\t\t\t\t\t\t\t\t\t\tpath_table=path_table,\n",
        "\t\t                                    epochs = 3,\n",
        "\t\t\t\t\t\t\t\t\t\t\twarm_step=100,\n",
        "\t\t                                    train_batch_size = 8,\n",
        "\t\t                                    test_batch_size = 128,\n",
        "\t\t                                    max_len = 250,\n",
        "\t\t                                    gpu = True\n",
        "\t\t\t\t\t\t\t\t\t\t\t)\n",
        "#my_xml_roberta_model.model.eval()\n",
        "\n",
        "processor = preprocess(tokenizer_vocab_path = path_best_model,\n",
        "\t\t\t\t\t\t\ttokenizer_max_len = 250\n",
        "\t\t\t\t\t\t\t)"
      ],
      "metadata": {
        "id": "jj0TA9quIlXC"
      },
      "execution_count": null,
      "outputs": []
    },
    {
      "cell_type": "code",
      "source": [
        "my_xml_roberta_model.model.classifier"
      ],
      "metadata": {
        "id": "NN6KP3W89rW1"
      },
      "execution_count": null,
      "outputs": []
    },
    {
      "cell_type": "code",
      "source": [
        "test_df = pd.read_csv(root+\"/split_test_data.csv\")\n",
        "test_df.head()"
      ],
      "metadata": {
        "id": "WOvNe7mVuIta"
      },
      "execution_count": null,
      "outputs": []
    },
    {
      "cell_type": "code",
      "source": [
        "test_df.shape"
      ],
      "metadata": {
        "id": "4phHxX3FyOPl"
      },
      "execution_count": null,
      "outputs": []
    },
    {
      "cell_type": "code",
      "source": [],
      "metadata": {
        "id": "q54h5USDqzd1"
      },
      "execution_count": null,
      "outputs": []
    },
    {
      "cell_type": "markdown",
      "source": [
        "## Getting the XLM-R embeddings and classifier embedding"
      ],
      "metadata": {
        "id": "vG4ebtdWyOqV"
      }
    },
    {
      "cell_type": "code",
      "source": [
        "text = test_df.text.iloc[2]\n",
        "input_ids, attention_mask = processor.encode_fn(text)\n",
        "(input_ids, attention_mask) = (input_ids.to(\"cuda:0\"), attention_mask.to(\"cuda:0\"))\n",
        "\n",
        "with torch.no_grad():\n",
        "  xmlr_out, classifier_emb = my_xml_roberta_model.forward(input_ids, attention_mask)\n",
        "xmlr_out, classifier_emb = xmlr_out.last_hidden_state.detach().cpu().numpy(), classifier_emb.detach().cpu().numpy()\n",
        "#logits.shape"
      ],
      "metadata": {
        "id": "cOPBdyQFvV3Q"
      },
      "execution_count": null,
      "outputs": []
    },
    {
      "cell_type": "code",
      "source": [
        "xmlr_out.shape"
      ],
      "metadata": {
        "id": "LLxpkPYdrQyp"
      },
      "execution_count": null,
      "outputs": []
    },
    {
      "cell_type": "code",
      "source": [
        "classifier_emb.shape"
      ],
      "metadata": {
        "id": "WSf8veGnENSV"
      },
      "execution_count": null,
      "outputs": []
    },
    {
      "cell_type": "code",
      "source": [
        "text = list(test_df.text.iloc[0:5])\n",
        "text_processed, attention_ids = processor.encode_fn(text)\n",
        "input_ids, attention_mask = processor.encode_fn(text)\n",
        "\n",
        "with torch.no_grad():\n",
        "  logits = my_xml_roberta_model.predict_single(input_ids, attention_mask))\n",
        "logits.shape"
      ],
      "metadata": {
        "id": "vSdtIOvAwV_G"
      },
      "execution_count": null,
      "outputs": []
    },
    {
      "cell_type": "markdown",
      "source": [
        "# Final Scripts\n",
        "Getting the logits and the [XLMRoberta] embeddings for all the test set and storing them for further analyzes. "
      ],
      "metadata": {
        "id": "WH5yGXQo3t-G"
      }
    },
    {
      "cell_type": "code",
      "source": [
        "class EmbedLogitClass:\n",
        "  def __init__(self,data):\n",
        "    self.data = data\n",
        "  def __call__(self):\n",
        "    return self.data"
      ],
      "metadata": {
        "id": "NjWwJ4hkAfDg"
      },
      "execution_count": null,
      "outputs": []
    },
    {
      "cell_type": "code",
      "source": [
        "logit = EmbedLogitClass(input_embed)\n",
        "logit"
      ],
      "metadata": {
        "id": "MQ-xzKGEA22M"
      },
      "execution_count": null,
      "outputs": []
    },
    {
      "cell_type": "code",
      "source": [
        "def getEmbedLogits(text_list):\n",
        "  input_ids, attention_mask = processor.encode_fn(text_list)\n",
        "  (input_ids, attention_mask) = (input_ids.to(\"cuda:0\"), attention_mask.to(\"cuda:0\"))\n",
        "\n",
        "  with torch.no_grad():\n",
        "    xmlr_out, classifier_emb = my_xml_roberta_model.forward(input_ids, attention_mask)\n",
        "  xmlr_out, classifier_emb = xmlr_out.last_hidden_state.detach().cpu().numpy(), classifier_emb.detach().cpu().numpy()\n",
        "\n",
        "  return xmlr_out, classifier_emb"
      ],
      "metadata": {
        "id": "nSJZfBue4Wvy"
      },
      "execution_count": null,
      "outputs": []
    },
    {
      "cell_type": "code",
      "source": [
        "%%time\n",
        "\n",
        "batch_size = 1\n",
        "n = test_df.shape[0]\n",
        "split_points = list(range(0, n, batch_size)) + [n]\n",
        "\n",
        "for step in range(len(split_points)-1):\n",
        "  low = split_points[step]\n",
        "  high = split_points[step+1]\n",
        "\n",
        "  text_list = test_df.text.iloc[low:high].to_list()\n",
        "  xmlr_out, classifier_emb = getEmbedLogits(text_list)\n",
        "\n",
        "  break\n",
        "  "
      ],
      "metadata": {
        "id": "4i_X-4hP6uma"
      },
      "execution_count": null,
      "outputs": []
    },
    {
      "cell_type": "code",
      "source": [
        "test_df[\"xmlr_out\"] = np.nan\n",
        "test_df[\"classifier_emb\"] = np.nan\n",
        "\n",
        "test_df.loc[low:(high-1), [\"logits\", \"embed\"]] = input_logits, input_embed "
      ],
      "metadata": {
        "id": "cXhh-2Y1GKZH"
      },
      "execution_count": null,
      "outputs": []
    },
    {
      "cell_type": "code",
      "source": [
        "test_df.to_pickle(root+\"/test_df_logits_embed.pkl\")"
      ],
      "metadata": {
        "id": "vPaXnik26Mnf"
      },
      "execution_count": null,
      "outputs": []
    },
    {
      "cell_type": "code",
      "source": [],
      "metadata": {
        "id": "Lhebau9_DuBx"
      },
      "execution_count": null,
      "outputs": []
    }
  ]
}